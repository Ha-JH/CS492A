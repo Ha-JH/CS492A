{
 "cells": [
  {
   "cell_type": "code",
   "execution_count": null,
   "id": "3771b669",
   "metadata": {},
   "outputs": [],
   "source": [
    "import logging\n",
    "import time\n",
    "import random\n"
   ]
  },
  {
   "cell_type": "code",
   "execution_count": null,
   "id": "a6d783d2",
   "metadata": {},
   "outputs": [],
   "source": [
    "import torch\n",
    "import torch.nn as nn\n",
    "import torch.nn.parallel\n",
    "import torch.nn.functional as F\n",
    "import torch.optim as optim\n",
    "import torch.backends.cudnn as cudnn\n",
    "import torch.optim as optim\n",
    "import torch.utils.data\n",
    "import torchvision.datasets as dset\n",
    "import torchvision.transforms as transforms\n",
    "import numpy as np\n",
    "from torch.autograd import Variable\n",
    "from torchvision.utils import save_image\n",
    "import torchvision.utils as vutils\n",
    "from torch import cuda"
   ]
  },
  {
   "cell_type": "code",
   "execution_count": null,
   "id": "b200c0a1",
   "metadata": {},
   "outputs": [],
   "source": [
    "import matplotlib.pyplot as plt\n",
    "import matplotlib.animation as animation"
   ]
  },
  {
   "cell_type": "code",
   "execution_count": null,
   "id": "4dc5f6a4",
   "metadata": {},
   "outputs": [],
   "source": [
    "from DCGAN import DCGAN\n",
    "from utils import get_data_loader, generate_images, save_gif\n",
    "from LeNet import Classifier"
   ]
  },
  {
   "cell_type": "code",
   "execution_count": null,
   "id": "78bf1a05",
   "metadata": {},
   "outputs": [],
   "source": [
    "manualSeed = 999\n",
    "random.seed(manualSeed)\n",
    "torch.manual_seed(manualSeed)"
   ]
  },
  {
   "cell_type": "code",
   "execution_count": 5,
   "id": "0f66b438",
   "metadata": {},
   "outputs": [],
   "source": [
    "#hyperparameter settings\n",
    "args = object()\n",
    "args.num_epochs = 10\n",
    "args.ngpu = 1\n",
    "args.ndf = 128\n",
    "args.ngf = 128\n",
    "args.nz = 100\n",
    "args.lr = 0.0002\n",
    "args.beta = 0.5\n",
    "args.nc = 1\n",
    "args.batch_size = 64\n",
    "args.image_size = 64\n",
    "args.num_test_samples = 64\n",
    "args.output_path = \"./results/\"\n",
    "args.fps = 5\n",
    "args.use_fixed = True\n",
    "args.plot = True"
   ]
  },
  {
   "cell_type": "code",
   "execution_count": null,
   "id": "b63b9f38",
   "metadata": {},
   "outputs": [],
   "source": [
    "# Gather MNIST Dataset\n",
    "transform=transforms.Compose([\n",
    "                               transforms.Resize(args.image_size),\n",
    "                               transforms.CenterCrop(args.image_size),\n",
    "                               transforms.ToTensor(),\n",
    "                            #    transforms.Normalize(mean=0.5, std=0.5)\n",
    "                               transforms.Normalize(mean=(0.1307, ), std=(0.3081, )),\n",
    "                           ])    \n",
    "dataset = dset.MNIST(root='./mnist_data/',\n",
    "                           transform=transform, download=True)\n",
    "# Create the dataloader\n",
    "dataloader = torch.utils.data.DataLoader(dataset, batch_size=args.batch_size,\n",
    "                                         shuffle=True)"
   ]
  },
  {
   "cell_type": "code",
   "execution_count": null,
   "id": "00268d88",
   "metadata": {},
   "outputs": [],
   "source": [
    " # Device configuration\n",
    "device = torch.device('cuda:0' if (torch.cuda.is_available() and args.ngpu > 0) else 'cpu')\n",
    "print(\"Using\", cuda.get_device_name(0))"
   ]
  },
  {
   "cell_type": "code",
   "execution_count": null,
   "id": "a2c47612",
   "metadata": {},
   "outputs": [],
   "source": [
    "# Plot some training images\n",
    "    real_batch = next(iter(dataloader))\n",
    "    plt.figure(figsize=(8,8))\n",
    "    plt.axis(\"off\")\n",
    "    plt.title(\"Training Images\")\n",
    "    plt.imshow(np.transpose(vutils.make_grid(real_batch[0].to(device)[:64], padding=2, normalize=True).cpu(),(1,2,0)))"
   ]
  },
  {
   "cell_type": "code",
   "execution_count": null,
   "id": "eb66f09c",
   "metadata": {},
   "outputs": [],
   "source": [
    "# init dcgan\n",
    "dcgan = DCGAN(ngpu=args.ngpu, device=device, lr=args.lr, nc=args.nc, ndf=args.ndf, nz=args.nz, ngf=args.ngf, beta1=args.beta)"
   ]
  },
  {
   "cell_type": "code",
   "execution_count": null,
   "id": "70e23229",
   "metadata": {},
   "outputs": [],
   "source": [
    "# initialize other variables\n",
    "num_batches = len(dataloader)\n",
    "fixed_noise = torch.randn(args.num_test_samples, args.nz, 1, 1, device=device)"
   ]
  },
  {
   "cell_type": "code",
   "execution_count": null,
   "id": "2df5f1af",
   "metadata": {},
   "outputs": [],
   "source": [
    "img_list = dcgan.train(dataloader=dataloader, num_epochs=args.num_epochs, plot=args.plot)"
   ]
  },
  {
   "cell_type": "code",
   "execution_count": null,
   "id": "41b34e99",
   "metadata": {},
   "outputs": [],
   "source": [
    "#%%capture\n",
    "fig = plt.figure(figsize=(8,8))\n",
    "plt.axis(\"off\")\n",
    "ims = [[plt.imshow(np.transpose(i,(1,2,0)), animated=True)] for i in img_list]\n",
    "ani = animation.ArtistAnimation(fig, ims, interval=1000, repeat_delay=1000, blit=True)\n",
    "writergif = animation.PillowWriter(fps=30) \n",
    "ani.save(args.output_path+\"fake_dcgan.gif\", writer=writergif)"
   ]
  },
  {
   "cell_type": "code",
   "execution_count": null,
   "id": "f67f92b2",
   "metadata": {},
   "outputs": [],
   "source": [
    "#save model\n",
    "model_path = \"./models/\"\n",
    "filename = \"dcgan_Q1.pt\"\n",
    "torch.save(dcgan, model_path+filename)"
   ]
  },
  {
   "cell_type": "code",
   "execution_count": null,
   "id": "9f7b0e22",
   "metadata": {},
   "outputs": [],
   "source": [
    "#load model\n",
    "model_path = \"./models/\"\n",
    "filename = \"dcgan_Q1.pt\"\n",
    "dcgan = torch.load(model_path+filename)"
   ]
  },
  {
   "cell_type": "code",
   "execution_count": null,
   "id": "0e23e111",
   "metadata": {},
   "outputs": [],
   "source": [
    "# Grab a batch of real images from the dataloader\n",
    "real_batch = next(iter(dataloader))\n",
    "\n",
    "# Plot the real images\n",
    "plt.figure(figsize=(15,15))\n",
    "plt.subplot(1,2,1)\n",
    "plt.axis(\"off\")\n",
    "plt.title(\"Real Images\")\n",
    "plt.imshow(np.transpose(vutils.make_grid(real_batch[0].to(device)[:64], padding=5, normalize=True).cpu(),(1,2,0)))\n",
    "\n",
    "# Plot the fake images from the last epoch\n",
    "plt.subplot(1,2,2)\n",
    "plt.axis(\"off\")\n",
    "plt.title(\"Fake Images\")\n",
    "plt.imshow(np.transpose(img_list[-1],(1,2,0)))\n",
    "plt.show()"
   ]
  },
  {
   "cell_type": "code",
   "execution_count": null,
   "id": "10d13a0a",
   "metadata": {},
   "outputs": [],
   "source": []
  }
 ],
 "metadata": {
  "kernelspec": {
   "display_name": "Python 3 (ipykernel)",
   "language": "python",
   "name": "python3"
  },
  "language_info": {
   "codemirror_mode": {
    "name": "ipython",
    "version": 3
   },
   "file_extension": ".py",
   "mimetype": "text/x-python",
   "name": "python",
   "nbconvert_exporter": "python",
   "pygments_lexer": "ipython3",
   "version": "3.9.7"
  }
 },
 "nbformat": 4,
 "nbformat_minor": 5
}
